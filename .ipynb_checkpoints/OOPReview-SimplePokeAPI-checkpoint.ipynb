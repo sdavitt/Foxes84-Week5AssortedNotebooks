{
 "cells": [
  {
   "cell_type": "code",
   "execution_count": null,
   "id": "eff88f64",
   "metadata": {},
   "outputs": [],
   "source": [
    "# goal:\n",
    "# in one line of code-> input: string pokemon name\n",
    "# output: organized relevant info (dictionary or object)\n",
    "\n",
    "# example expected goal:\n",
    "new_poke = Pokemon('Raichu')\n",
    "\n",
    "# what needs to happen here -> api call based on the string\n",
    "# then organization of the data coming from that api call"
   ]
  },
  {
   "cell_type": "code",
   "execution_count": 8,
   "id": "b9371ff5",
   "metadata": {},
   "outputs": [],
   "source": [
    "# let's do it as a function first because that is minorly more straightforward\n",
    "import requests as r\n",
    "def pokemon(name):\n",
    "    # based on the name, make the api call to get back all the data\n",
    "    result = r.get(f'https://pokeapi.co/api/v2/pokemon/{name.lower()}/')\n",
    "    # check if the call worked - status_code should be 200\n",
    "    if result.status_code == 200:\n",
    "        data = result.json()\n",
    "        # filter that data into our preffered structure\n",
    "        poke = {\n",
    "            'name': data['name'].title(),\n",
    "            'HP': data['stats'][0]['base_stat'],\n",
    "            'Attack': data['stats'][1]['base_stat'],\n",
    "            'Defense': data['stats'][2]['base_stat'],\n",
    "            'Ability': data['abilities'][0]['ability']['name'].title()\n",
    "        }\n",
    "        return poke\n",
    "    return f'api call broke {result.status_code}'"
   ]
  },
  {
   "cell_type": "code",
   "execution_count": 12,
   "id": "1ac28540",
   "metadata": {},
   "outputs": [
    {
     "data": {
      "text/plain": [
       "{'name': 'Raichu', 'HP': 60, 'Attack': 90, 'Defense': 55, 'Ability': 'Static'}"
      ]
     },
     "execution_count": 12,
     "metadata": {},
     "output_type": "execute_result"
    }
   ],
   "source": [
    "new_poke = pokemon('Raichu')\n",
    "new_poke"
   ]
  },
  {
   "cell_type": "code",
   "execution_count": 17,
   "id": "acef6dd7",
   "metadata": {},
   "outputs": [],
   "source": [
    "# structure first\n",
    "# the idea of input once we leave the bubble of python-only jupyter notebooks/.py files\n",
    "# is no longer tied at all to the input() function\n",
    "# and displaying info is no longer tied at all to the print()\n",
    "\n",
    "class Pokemon:\n",
    "    def __init__(self, name):\n",
    "        data = r.get(f'https://pokeapi.co/api/v2/pokemon/{name.lower()}/')\n",
    "        if data.status_code == 200:\n",
    "            data = data.json()\n",
    "            self.name = data['name'].title()\n",
    "            self.hp = data['stats'][0]['base_stat']\n",
    "            self.attack = data['stats'][1]['base_stat']\n",
    "            self.defense = data['stats'][2]['base_stat']\n",
    "            self.speed = data['stats'][5]['base_stat']\n",
    "            self.ability = data['abilities'][0]['ability']['name'].title()\n",
    "        else:\n",
    "            self.name = name.title()\n",
    "            self.hp = None\n",
    "            self.attack = None\n",
    "            self.defense = None\n",
    "            self.speed = None\n",
    "            self.ability = None"
   ]
  },
  {
   "cell_type": "code",
   "execution_count": 16,
   "id": "5698233e",
   "metadata": {},
   "outputs": [
    {
     "name": "stdout",
     "output_type": "stream",
     "text": [
      "<__main__.Pokemon object at 0x0000018656E43A90>\n"
     ]
    },
    {
     "data": {
      "text/plain": [
       "{'name': 'Raichu', 'hp': 60, 'attack': 90, 'defense': 55, 'ability': 'Static'}"
      ]
     },
     "execution_count": 16,
     "metadata": {},
     "output_type": "execute_result"
    }
   ],
   "source": [
    "new_poke = Pokemon('Raichu')\n",
    "print(new_poke)\n",
    "new_poke.__dict__"
   ]
  },
  {
   "cell_type": "code",
   "execution_count": 34,
   "id": "652c0690",
   "metadata": {},
   "outputs": [],
   "source": [
    "def battle(p1, p2):\n",
    "    # higher speed goes first\n",
    "    p1life = p1.hp\n",
    "    p2life = p2.hp\n",
    "    while True:\n",
    "        if p1.speed > p2.speed:\n",
    "            p2life -= p1.attack - p2.defense\n",
    "            if p2life <= 0:\n",
    "                return f'{p2.name} is knocked out cold! {p1.name} wins!'\n",
    "            p1life -= p2.attack - p1.defense\n",
    "            if p1life <= 0:\n",
    "                return f'{p1.name} is knocked out cold! {p2.name} wins!'\n",
    "        else:\n",
    "            p1life -= p2.attack - p1.defense\n",
    "            if p1life <= 0:\n",
    "                return f'{p1.name} is knocked out cold! {p2.name} wins!'\n",
    "            p2life -= p1.attack - p2.defense\n",
    "            if p2life <= 0:\n",
    "                return f'{p2.name} is knocked out cold! {p1.name} wins!'"
   ]
  },
  {
   "cell_type": "code",
   "execution_count": 35,
   "id": "7bfd1c87",
   "metadata": {},
   "outputs": [
    {
     "data": {
      "text/plain": [
       "'Clefairy is knocked out cold! Raichu wins!'"
      ]
     },
     "execution_count": 35,
     "metadata": {},
     "output_type": "execute_result"
    }
   ],
   "source": [
    "# in the context of a larger program - having independent functions/classes/modules\n",
    "# that allow us to easily and simply have functionality is incredibly valuable\n",
    "mypokemon = Pokemon('Raichu')\n",
    "enemy = Pokemon('Clefairy')\n",
    "battle(mypokemon, enemy)"
   ]
  },
  {
   "cell_type": "code",
   "execution_count": 37,
   "id": "7a4e342c",
   "metadata": {},
   "outputs": [
    {
     "name": "stdout",
     "output_type": "stream",
     "text": [
      "{'name': 'Raichu', 'hp': 60, 'attack': 90, 'defense': 55, 'speed': 110, 'ability': 'Static'}\n",
      "{'name': 'Clefairy', 'hp': 70, 'attack': 45, 'defense': 48, 'speed': 35, 'ability': 'Cute-Charm'}\n"
     ]
    }
   ],
   "source": [
    "print(mypokemon.__dict__)\n",
    "print(enemy.__dict__)"
   ]
  },
  {
   "cell_type": "code",
   "execution_count": 38,
   "id": "140189a6",
   "metadata": {},
   "outputs": [],
   "source": [
    "# why bother with OOP?\n",
    "# so that our larger context using this little battler can look like this\n",
    "# rather than 40+ lines of unorganized code\n",
    "def thing_that_would_be_a_flask_route():\n",
    "    print('Welcome to the page!')\n",
    "    print('some stuff happens')\n",
    "    print('if the user clicks the attack button, do this thing:')\n",
    "    mypokemon = Pokemon('Raichu')\n",
    "    enemy = Pokemon('Clefairy')\n",
    "    battle(mypokemon, enemy)\n",
    "    print('and then other stuff happens on the page')"
   ]
  }
 ],
 "metadata": {
  "kernelspec": {
   "display_name": "Python 3",
   "language": "python",
   "name": "python3"
  },
  "language_info": {
   "codemirror_mode": {
    "name": "ipython",
    "version": 3
   },
   "file_extension": ".py",
   "mimetype": "text/x-python",
   "name": "python",
   "nbconvert_exporter": "python",
   "pygments_lexer": "ipython3",
   "version": "3.8.8"
  }
 },
 "nbformat": 4,
 "nbformat_minor": 5
}
