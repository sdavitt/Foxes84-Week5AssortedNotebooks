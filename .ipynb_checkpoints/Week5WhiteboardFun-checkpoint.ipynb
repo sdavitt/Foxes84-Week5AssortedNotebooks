{
 "cells": [
  {
   "cell_type": "markdown",
   "id": "da55f273",
   "metadata": {},
   "source": [
    "Move Zeros\n",
    "Given an array nums, write a function to move all 0's to the end of it while maintaining the relative order of the non-zero elements.\n",
    "Example:\n",
    "Input: [0,1,0,3,12]\n",
    "Output: [1,3,12,0,0]\n",
    "Example Input: [0,0,11,2,3,4]\n",
    "Example Output: [11,2,3,4,0,0]"
   ]
  },
  {
   "cell_type": "code",
   "execution_count": 6,
   "id": "709ec023",
   "metadata": {},
   "outputs": [
    {
     "name": "stdout",
     "output_type": "stream",
     "text": [
      "[4, 3, 11, 2, 0, 0, 0, 0]\n"
     ]
    }
   ],
   "source": [
    "# Is there a way we can change the index number of a value?\n",
    "    # Yes and no\n",
    "    # Not without modifying other index value as well (aka swapping)\n",
    "    \n",
    "# a back-to-front moving pointer\n",
    "# with swapping\n",
    "# and conditional checks on those swaps\n",
    "\n",
    "# doesn't fully solve the question\n",
    "    #  we don't maintain the original order of non-zero elements\n",
    "    \n",
    "test = [0,0,11,0,0,2,3,4]\n",
    "\n",
    "def moveZeros(arr):\n",
    "    i = 0\n",
    "    end = len(arr)-1\n",
    "    while i < end:\n",
    "        if arr[i] == 0:\n",
    "            arr[i], arr[end] = arr[end], arr[i]\n",
    "            end -= 1\n",
    "        else:\n",
    "            i += 1\n",
    "\n",
    "moveZeros(test)\n",
    "print(test)"
   ]
  },
  {
   "cell_type": "code",
   "execution_count": null,
   "id": "78d662b2",
   "metadata": {},
   "outputs": [],
   "source": [
    "# Can we refactor this answer or modify it's approach to maintain the relative order of the non-zero elements?\n",
    "# What if we move back to front with our other pointer?\n",
    "    # aka instead of swapping the front 0 with the back 4 first, the first swap was the back 0 with the back 4\n",
    "\n",
    "# [0, 0, 11, 0, 0, 2, 3, 4]\n",
    "# [0, 0, 11, 0, 4, 2, 3, 0]\n",
    "# [0, 0, 11, 3, 4, 2, 0, 0]\n",
    "# [0, 2, 11, 3, 4, 0, 0, 0]\n",
    "# [11, 2, 3, 4, 0, 0, 0, 0]\n",
    "\n",
    "# conceptually this swapping works.....\n",
    "    # as long as the number of zero and non-zeros is the same\n",
    "    # can I ensure I'm working with the same number of zeros and non-zeros while maintaining my linear time?\n",
    "        # ... I think so\n",
    "        \n",
    "    # two separate linear processes- one after the other is still considered overall linear - n+n = O(n)\n",
    "    # what if I determine my total number of zeros to deal with\n",
    "    # and do some initial pointer/swap work to \"fix\" my structure before going with the backwards moving swapping strategy\n",
    "        # shown above\n",
    "\n",
    "# [0, 14, 0, 11, 7, 0, 0, 2, 3, 4]\n",
    "# [0, 14, 0, 11, 7, 0, 4, 2, 3, 0]\n",
    "# [0, 14, 0, 11, 7, 3, 4, 2, 0, 0]\n",
    "# [0, 14, 2, 11, 7, 3, 4, 0, 0, 0]\n",
    "# [7, 14, 2, 11, 3, 4, 0, 0, 0, 0]\n",
    "\n",
    "# .count() - number of zeros before I start anything\n",
    "# non-zero elements is len(list)-.count(0)\n",
    "\n",
    "\n",
    "# If i know the number of zeros I know the number of potential \"self-fixing\" swaps I can make\n",
    "    # move the back pointer up and do the self-fixing swaps to get the zeros closer to the end? then swap from there?\n",
    "    # I can see a number of potential edge cases/weird behaviour/things breaking\n",
    "        # zeros at the end/near the end to begin with\n",
    "    \n",
    "# [0, 14, 0, 11, 7, 0, 0, 2, 3, 4]\n",
    "# [0, 14, 0, 11, 7, 0, 2, 0, 3, 4]\n",
    "# Lost train of thought on pointer movement -> this gets really bizarre would have to work out on paper\n",
    "# short goal: [0, 14, 0, 11, 7, 0, 0, 2, 3, 4] lots more to figure out here\n",
    "# long story short - maintaining relative order of non-zero elements\n",
    "    # while trying to maintain a linear time complexity with our swapping-based approach\n",
    "    # gets very complicated very quickly"
   ]
  }
 ],
 "metadata": {
  "kernelspec": {
   "display_name": "Python 3",
   "language": "python",
   "name": "python3"
  },
  "language_info": {
   "codemirror_mode": {
    "name": "ipython",
    "version": 3
   },
   "file_extension": ".py",
   "mimetype": "text/x-python",
   "name": "python",
   "nbconvert_exporter": "python",
   "pygments_lexer": "ipython3",
   "version": "3.8.8"
  }
 },
 "nbformat": 4,
 "nbformat_minor": 5
}
